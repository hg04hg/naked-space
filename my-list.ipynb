{
 "cells": [
  {
   "cell_type": "code",
   "execution_count": 8,
   "metadata": {},
   "outputs": [
    {
     "data": {
      "text/plain": [
       "'3.10.4 (main, Apr  3 2023, 22:35:52) [GCC 9.4.0]'"
      ]
     },
     "execution_count": 8,
     "metadata": {},
     "output_type": "execute_result"
    }
   ],
   "source": [
    "import sys\n",
    "sys.version"
   ]
  },
  {
   "cell_type": "code",
   "execution_count": null,
   "metadata": {},
   "outputs": [],
   "source": [
    "orgPwd = int(input(\"ID로 사용할 8자리의 정수를 입력하세요: \"))\n",
    "keyMask = 93492362\n",
    "encPwd = orgPwd ^ keyMask\n",
    "\n",
    "print(\"입력한 ID: %d\" % orgPwd)\n",
    "print(\"암호화한 ID: %d\" % encPwd)\n",
    "\n",
    "idPwd = int(input(\"로그인할 ID를 입력하세요: \"))\n",
    "\n",
    "result = encPwd ^ keyMask\n",
    "print(\"로그인 성공: {}\".format(idPwd == result))"
   ]
  }
 ],
 "metadata": {
  "kernelspec": {
   "display_name": "Python 3",
   "language": "python",
   "name": "python3"
  },
  "language_info": {
   "codemirror_mode": {
    "name": "ipython",
    "version": 3
   },
   "file_extension": ".py",
   "mimetype": "text/x-python",
   "name": "python",
   "nbconvert_exporter": "python",
   "pygments_lexer": "ipython3",
   "version": "3.10.4"
  },
  "orig_nbformat": 4
 },
 "nbformat": 4,
 "nbformat_minor": 2
}
