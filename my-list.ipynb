{
 "cells": [
  {
   "cell_type": "code",
   "execution_count": 8,
   "metadata": {},
   "outputs": [
    {
     "data": {
      "text/plain": [
       "'3.10.4 (main, Apr  3 2023, 22:35:52) [GCC 9.4.0]'"
      ]
     },
     "execution_count": 8,
     "metadata": {},
     "output_type": "execute_result"
    }
   ],
   "source": [
    "import sys\n",
    "sys.version"
   ]
  },
  {
   "cell_type": "code",
   "execution_count": 1,
   "metadata": {},
   "outputs": [
    {
     "name": "stdout",
     "output_type": "stream",
     "text": [
      "입력한 ID: 123123\n",
      "암호화한 ID: 93549689\n",
      "로그인 성공: True\n"
     ]
    }
   ],
   "source": [
    "orgPwd = int(input(\"ID로 사용할 8자리의 정수를 입력하세요: \"))\n",
    "keyMask = 93492362\n",
    "encPwd = orgPwd ^ keyMask\n",
    "\n",
    "print(\"입력한 ID: %d\" % orgPwd)\n",
    "print(\"암호화한 ID: %d\" % encPwd)\n",
    "\n",
    "idPwd = int(input(\"로그인할 ID를 입력하세요: \"))\n",
    "\n",
    "result = encPwd ^ keyMask\n",
    "print(\"로그인 성공: {}\".format(idPwd == result))"
   ]
  },
  {
   "attachments": {},
   "cell_type": "markdown",
   "metadata": {},
   "source": [
    "\n",
    "f 문자열\n",
    "\n"
   ]
  },
  {
   "cell_type": "code",
   "execution_count": 3,
   "metadata": {},
   "outputs": [
    {
     "data": {
      "text/plain": [
       "3.141592653589793"
      ]
     },
     "execution_count": 3,
     "metadata": {},
     "output_type": "execute_result"
    }
   ],
   "source": [
    "import math\n",
    "math.pi"
   ]
  },
  {
   "cell_type": "code",
   "execution_count": 5,
   "metadata": {},
   "outputs": [
    {
     "data": {
      "text/plain": [
       "2.718281828459045"
      ]
     },
     "execution_count": 5,
     "metadata": {},
     "output_type": "execute_result"
    }
   ],
   "source": [
    "math.e"
   ]
  },
  {
   "cell_type": "code",
   "execution_count": 7,
   "metadata": {},
   "outputs": [
    {
     "data": {
      "text/plain": [
       "'pi: 3.14'"
      ]
     },
     "execution_count": 7,
     "metadata": {},
     "output_type": "execute_result"
    }
   ],
   "source": [
    "f'pi: {math.pi:.2f}'"
   ]
  },
  {
   "cell_type": "code",
   "execution_count": 8,
   "metadata": {},
   "outputs": [
    {
     "data": {
      "text/plain": [
       "'e:      2.718'"
      ]
     },
     "execution_count": 8,
     "metadata": {},
     "output_type": "execute_result"
    }
   ],
   "source": [
    "f'e: {math.e:10.3f}'"
   ]
  },
  {
   "cell_type": "code",
   "execution_count": 9,
   "metadata": {},
   "outputs": [
    {
     "name": "stdout",
     "output_type": "stream",
     "text": [
      "x: 5 is odd\n"
     ]
    }
   ],
   "source": [
    "x = 5\n",
    "if(x % 2 == 0):\n",
    "    s = 'even'\n",
    "else:\n",
    "    s = 'odd'\n",
    "print(f'x: {x} is {s}')"
   ]
  },
  {
   "cell_type": "code",
   "execution_count": 12,
   "metadata": {},
   "outputs": [
    {
     "name": "stdout",
     "output_type": "stream",
     "text": [
      "x: 5 is odd\n"
     ]
    }
   ],
   "source": [
    "x = 5\n",
    "s = 'even' if x % 2 == 0 else 'odd'\n",
    "print(f'x: {x} is {s}')"
   ]
  },
  {
   "cell_type": "code",
   "execution_count": 13,
   "metadata": {},
   "outputs": [
    {
     "name": "stdout",
     "output_type": "stream",
     "text": [
      "미세먼지 농도: 123.00, 등급: 나쁨\n"
     ]
    }
   ],
   "source": [
    "PM = float(input('미세먼지(10마이크로그램)의 농도는? '))\n",
    "\n",
    "if 151 <= PM:\n",
    "    print('미세먼지 농도: {:.2f}, 등급: {}'.format(PM, '매우 나쁨'))\n",
    "elif 81 <= PM:\n",
    "    print('미세먼지 농도: {:.2f}, 등급: {}'.format(PM, '나쁨'))\n",
    "elif 31 <= PM:\n",
    "    print('미세먼지 농도: {:.2f}, 등급: {}'.format(PM, '보통'))\n",
    "else:\n",
    "    print('미세먼지 농도: {:.2f}, 등급: {}'.format(PM, '좋음'))"
   ]
  },
  {
   "cell_type": "code",
   "execution_count": null,
   "metadata": {},
   "outputs": [],
   "source": []
  }
 ],
 "metadata": {
  "kernelspec": {
   "display_name": "Python 3",
   "language": "python",
   "name": "python3"
  },
  "language_info": {
   "codemirror_mode": {
    "name": "ipython",
    "version": 3
   },
   "file_extension": ".py",
   "mimetype": "text/x-python",
   "name": "python",
   "nbconvert_exporter": "python",
   "pygments_lexer": "ipython3",
   "version": "3.10.4"
  },
  "orig_nbformat": 4
 },
 "nbformat": 4,
 "nbformat_minor": 2
}
