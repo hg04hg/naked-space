a = ['python', 'Y', 'java', 'go']
type(a)

b = ['c', 'python', 'java', 'go']
c = ['python', 'Y', 'java', 'go']

a == b
a == c

print('a =',id(a))
print('b =',id(b))
print('c =',id(c))

import math
data = [int, len, math]

data[1]
data[::-1]
data[1:3]
data[1] = max
data
data[1]([2,3,4,5])

data[2]

data[0:1]

f1 = ['사과', '귤', '파인애플', '복숭아']
f2 = list(f1)
print(f2.pop())
print(f1, id(f1))
print(f2, id(f2))


# 리스트 컴프렌션
[i for i in range(10) ]
[i**2 for i in range(10) ]

[i for i in range(1, 10, 2) ]
[i for i in range(1, 11, 3) ]
[i for i in range(1, 20, 3) ]

[i for i in range(1, 11, 3) ]
[i for i in range(1, 11, 3) if i % 2 == 0]
[i for i in range(1, 11, 3) if i % 2 == 1]

[i for i in range(1, 11, 3) if i % 2 == 1]
